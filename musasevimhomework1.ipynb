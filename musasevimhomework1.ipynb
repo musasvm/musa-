{
 "cells": [
  {
   "cell_type": "code",
   "execution_count": 8,
   "metadata": {},
   "outputs": [
    {
     "name": "stdout",
     "output_type": "stream",
     "text": [
      "a değerini gir:1\n",
      "b değerini gir:2\n",
      "c değerini gir:3\n",
      "kök 1:-0.953125 , kök 2:-1.046875\n"
     ]
    }
   ],
   "source": [
    "a=int(input(\"a değerini gir:\"))\n",
    "b=int(input(\"b değerini gir:\"))\n",
    "c=int(input(\"c değerini gir:\"))\n",
    "\n",
    "discriminant = (b** - 4 * a * c)\n",
    "x1=(-b+discriminant*0.5)/(2*a)\n",
    "x2=(-b-discriminant*0.5)/(2*a)\n",
    "\n",
    "if discriminant < 0:\n",
    "    print(\"real kök yoktur\")\n",
    "if discriminant > 0:\n",
    "    print(\"kök 1:{} , kök 2:{}\" . format(x1 , x2))\n",
    "if discriminant == 0:\n",
    "    print(\"kök 1:{} , kök 2:{}\" . format(x1 , x2))"
   ]
  },
  {
   "cell_type": "code",
   "execution_count": null,
   "metadata": {},
   "outputs": [],
   "source": []
  },
  {
   "cell_type": "code",
   "execution_count": null,
   "metadata": {},
   "outputs": [],
   "source": []
  }
 ],
 "metadata": {
  "kernelspec": {
   "display_name": "Python 3",
   "language": "python",
   "name": "python3"
  },
  "language_info": {
   "codemirror_mode": {
    "name": "ipython",
    "version": 3
   },
   "file_extension": ".py",
   "mimetype": "text/x-python",
   "name": "python",
   "nbconvert_exporter": "python",
   "pygments_lexer": "ipython3",
   "version": "3.6.7"
  }
 },
 "nbformat": 4,
 "nbformat_minor": 2
}
