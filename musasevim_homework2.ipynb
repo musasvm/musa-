{
 "cells": [
  {
   "cell_type": "code",
   "execution_count": 1,
   "metadata": {},
   "outputs": [
    {
     "name": "stdout",
     "output_type": "stream",
     "text": [
      "[[1 2 3]]\n"
     ]
    }
   ],
   "source": [
    "import scipy as sc\n",
    "import numpy as np\n",
    "array1 = np.array ([(1,2,3)])\n",
    "print(array1)"
   ]
  },
  {
   "cell_type": "code",
   "execution_count": 2,
   "metadata": {},
   "outputs": [
    {
     "name": "stdout",
     "output_type": "stream",
     "text": [
      "[ 0.   2.5  5.   7.5 10. ] \n",
      "\n",
      "[0.  0.5 1. ] \n",
      "\n"
     ]
    }
   ],
   "source": [
    "array2=np.linspace (0,10,5)\n",
    "print(array2,'\\n')\n",
    "array22=np.linspace(0,1,3)\n",
    "print(array22, '\\n')"
   ]
  },
  {
   "cell_type": "code",
   "execution_count": 3,
   "metadata": {},
   "outputs": [
    {
     "name": "stdout",
     "output_type": "stream",
     "text": [
      "[0 1 2 3 4 5 6 7 8 9] \n",
      "\n",
      "[0.  0.5 1.  1.5 2.  2.5 3.  3.5 4.  4.5] \n",
      "\n",
      "[0 1 2 3 4] \n",
      "\n",
      "[0 1 2 3 4 5 6 7 8 9] \n",
      "\n"
     ]
    }
   ],
   "source": [
    "array3=np.arange(0,10,1)\n",
    "print(array3,'\\n')\n",
    "array4=np.arange(0,5,0.5)\n",
    "print(array4,'\\n')\n",
    "array44=np.arange(5)\n",
    "print(array44,'\\n')\n",
    "print(np.arange(10),'\\n')"
   ]
  },
  {
   "cell_type": "code",
   "execution_count": 4,
   "metadata": {},
   "outputs": [
    {
     "name": "stdout",
     "output_type": "stream",
     "text": [
      "[0. 0. 0. 0. 0.] \n",
      "\n",
      "[1. 1. 1.] \n",
      "\n"
     ]
    }
   ],
   "source": [
    "array5=np.zeros(5)\n",
    "print(array5,'\\n')\n",
    "array6=np.ones(3)\n",
    "print(array6,'\\n')"
   ]
  },
  {
   "cell_type": "code",
   "execution_count": 5,
   "metadata": {},
   "outputs": [
    {
     "name": "stdout",
     "output_type": "stream",
     "text": [
      "[-2. -1.  0.  1.  2.  3.] \n",
      "\n",
      "[0. 1. 2. 3. 4. 5.] \n",
      "\n",
      "[-3. -2. -1.  0.  1.  2.] \n",
      "\n",
      "[-6. -3.  0.  3.  6.  9.] \n",
      "\n",
      "[-1.  -0.5  0.   0.5  1.   1.5] \n",
      "\n",
      "[16.  1.  0.  1. 16. 81.] \n",
      "\n",
      "[ 0.  5. 10. 15. 20. 25.] \n",
      "\n",
      "[-0.90929743 -0.84147098  0.          0.84147098  0.90929743  0.14112001] \n",
      "\n",
      "[-0.41614684  0.54030231  1.          0.54030231 -0.41614684 -0.9899925 ] \n",
      "\n"
     ]
    }
   ],
   "source": [
    "array7=np.linspace(-2,3,6)\n",
    "print(array7,'\\n')\n",
    "print(array7+2, '\\n')\n",
    "print(array7-1, '\\n')\n",
    "print(array7*3, '\\n')\n",
    "print(array7/2, '\\n')\n",
    "print(array7**4, '\\n')\n",
    "print((array7+2)*5, '\\n')\n",
    "print(np.sin(array7), '\\n')\n",
    "print(np.cos(array7), '\\n')"
   ]
  },
  {
   "cell_type": "code",
   "execution_count": 6,
   "metadata": {},
   "outputs": [
    {
     "name": "stdout",
     "output_type": "stream",
     "text": [
      "[ 60  80 100] \n",
      "\n",
      "[40 40 40] \n",
      "\n",
      "[-40 -40 -40] \n",
      "\n",
      "[ 500 1200 2100] \n",
      "\n",
      "[5.         3.         2.33333333] \n",
      "\n"
     ]
    }
   ],
   "source": [
    "array8= np.array ([10,20,30])\n",
    "array9= np.array ([50,60,70])\n",
    "result1= array8+array9\n",
    "print(result1 , '\\n')\n",
    "print(array9-array8 , '\\n')\n",
    "print(array8-array9 , '\\n')\n",
    "print(array8*array9 , '\\n')\n",
    "print(array9/array8 , '\\n')"
   ]
  },
  {
   "cell_type": "code",
   "execution_count": 7,
   "metadata": {},
   "outputs": [
    {
     "name": "stdout",
     "output_type": "stream",
     "text": [
      "[[1 2 3]\n",
      " [4 5 6]] \n",
      "\n",
      "[[1 1 1]\n",
      " [2 2 2]\n",
      " [3 3 3]] \n",
      "\n"
     ]
    }
   ],
   "source": [
    "array10=np.array([[1,2,3],[4,5,6]])\n",
    "print(array10, '\\n')\n",
    "array11=np.array([[1,1,1],[2,2,2],[3,3,3]])\n",
    "print(array11, '\\n')"
   ]
  },
  {
   "cell_type": "code",
   "execution_count": 8,
   "metadata": {},
   "outputs": [
    {
     "name": "stdout",
     "output_type": "stream",
     "text": [
      "[[[1. 0. 0.]\n",
      "  [0. 1. 0.]\n",
      "  [0. 0. 1.]]] \n",
      "\n"
     ]
    }
   ],
   "source": [
    "array12=np.array([np.eye(3)])\n",
    "print(array12, '\\n')"
   ]
  },
  {
   "cell_type": "code",
   "execution_count": 9,
   "metadata": {},
   "outputs": [
    {
     "name": "stdout",
     "output_type": "stream",
     "text": [
      "[0 1 2 3 4 5 6 7] \n",
      "\n",
      "[[0 1 2 3]\n",
      " [4 5 6 7]] \n",
      "\n",
      "[[0 1]\n",
      " [2 3]\n",
      " [4 5]\n",
      " [6 7]] \n",
      "\n",
      "[[0 1]\n",
      " [2 3]\n",
      " [4 5]\n",
      " [6 7]] \n",
      "\n"
     ]
    },
    {
     "ename": "ValueError",
     "evalue": "cannot reshape array of size 8 into shape (2,5)",
     "output_type": "error",
     "traceback": [
      "\u001b[0;31m---------------------------------------------------------------------------\u001b[0m",
      "\u001b[0;31mValueError\u001b[0m                                Traceback (most recent call last)",
      "\u001b[0;32m<ipython-input-9-23d44455b36c>\u001b[0m in \u001b[0;36m<module>\u001b[0;34m\u001b[0m\n\u001b[1;32m      5\u001b[0m \u001b[0mprint\u001b[0m\u001b[0;34m(\u001b[0m\u001b[0mnp\u001b[0m\u001b[0;34m.\u001b[0m\u001b[0mreshape\u001b[0m\u001b[0;34m(\u001b[0m\u001b[0marray13\u001b[0m\u001b[0;34m,\u001b[0m\u001b[0;34m(\u001b[0m\u001b[0;36m4\u001b[0m\u001b[0;34m,\u001b[0m\u001b[0;36m2\u001b[0m\u001b[0;34m)\u001b[0m\u001b[0;34m)\u001b[0m\u001b[0;34m,\u001b[0m \u001b[0;34m'\\n'\u001b[0m\u001b[0;34m)\u001b[0m\u001b[0;34m\u001b[0m\u001b[0;34m\u001b[0m\u001b[0m\n\u001b[1;32m      6\u001b[0m \u001b[0mprint\u001b[0m\u001b[0;34m(\u001b[0m\u001b[0mnp\u001b[0m\u001b[0;34m.\u001b[0m\u001b[0mreshape\u001b[0m\u001b[0;34m(\u001b[0m\u001b[0mnp\u001b[0m\u001b[0;34m.\u001b[0m\u001b[0marange\u001b[0m\u001b[0;34m(\u001b[0m\u001b[0;36m8\u001b[0m\u001b[0;34m)\u001b[0m\u001b[0;34m,\u001b[0m \u001b[0;34m(\u001b[0m\u001b[0;36m4\u001b[0m\u001b[0;34m,\u001b[0m\u001b[0;36m2\u001b[0m\u001b[0;34m)\u001b[0m\u001b[0;34m)\u001b[0m\u001b[0;34m,\u001b[0m \u001b[0;34m'\\n'\u001b[0m\u001b[0;34m)\u001b[0m\u001b[0;34m\u001b[0m\u001b[0;34m\u001b[0m\u001b[0m\n\u001b[0;32m----> 7\u001b[0;31m \u001b[0mprint\u001b[0m\u001b[0;34m(\u001b[0m\u001b[0mnp\u001b[0m\u001b[0;34m.\u001b[0m\u001b[0mreshape\u001b[0m\u001b[0;34m(\u001b[0m\u001b[0marray13\u001b[0m \u001b[0;34m,\u001b[0m \u001b[0;34m(\u001b[0m\u001b[0;36m2\u001b[0m\u001b[0;34m,\u001b[0m\u001b[0;36m5\u001b[0m\u001b[0;34m)\u001b[0m\u001b[0;34m)\u001b[0m \u001b[0;34m,\u001b[0m \u001b[0;34m'\\n'\u001b[0m\u001b[0;34m)\u001b[0m\u001b[0;34m\u001b[0m\u001b[0;34m\u001b[0m\u001b[0m\n\u001b[0m",
      "\u001b[0;32m<__array_function__ internals>\u001b[0m in \u001b[0;36mreshape\u001b[0;34m(*args, **kwargs)\u001b[0m\n",
      "\u001b[0;32m/srv/conda/envs/notebook/lib/python3.6/site-packages/numpy/core/fromnumeric.py\u001b[0m in \u001b[0;36mreshape\u001b[0;34m(a, newshape, order)\u001b[0m\n\u001b[1;32m    299\u001b[0m            [5, 6]])\n\u001b[1;32m    300\u001b[0m     \"\"\"\n\u001b[0;32m--> 301\u001b[0;31m     \u001b[0;32mreturn\u001b[0m \u001b[0m_wrapfunc\u001b[0m\u001b[0;34m(\u001b[0m\u001b[0ma\u001b[0m\u001b[0;34m,\u001b[0m \u001b[0;34m'reshape'\u001b[0m\u001b[0;34m,\u001b[0m \u001b[0mnewshape\u001b[0m\u001b[0;34m,\u001b[0m \u001b[0morder\u001b[0m\u001b[0;34m=\u001b[0m\u001b[0morder\u001b[0m\u001b[0;34m)\u001b[0m\u001b[0;34m\u001b[0m\u001b[0;34m\u001b[0m\u001b[0m\n\u001b[0m\u001b[1;32m    302\u001b[0m \u001b[0;34m\u001b[0m\u001b[0m\n\u001b[1;32m    303\u001b[0m \u001b[0;34m\u001b[0m\u001b[0m\n",
      "\u001b[0;32m/srv/conda/envs/notebook/lib/python3.6/site-packages/numpy/core/fromnumeric.py\u001b[0m in \u001b[0;36m_wrapfunc\u001b[0;34m(obj, method, *args, **kwds)\u001b[0m\n\u001b[1;32m     59\u001b[0m \u001b[0;34m\u001b[0m\u001b[0m\n\u001b[1;32m     60\u001b[0m     \u001b[0;32mtry\u001b[0m\u001b[0;34m:\u001b[0m\u001b[0;34m\u001b[0m\u001b[0;34m\u001b[0m\u001b[0m\n\u001b[0;32m---> 61\u001b[0;31m         \u001b[0;32mreturn\u001b[0m \u001b[0mbound\u001b[0m\u001b[0;34m(\u001b[0m\u001b[0;34m*\u001b[0m\u001b[0margs\u001b[0m\u001b[0;34m,\u001b[0m \u001b[0;34m**\u001b[0m\u001b[0mkwds\u001b[0m\u001b[0;34m)\u001b[0m\u001b[0;34m\u001b[0m\u001b[0;34m\u001b[0m\u001b[0m\n\u001b[0m\u001b[1;32m     62\u001b[0m     \u001b[0;32mexcept\u001b[0m \u001b[0mTypeError\u001b[0m\u001b[0;34m:\u001b[0m\u001b[0;34m\u001b[0m\u001b[0;34m\u001b[0m\u001b[0m\n\u001b[1;32m     63\u001b[0m         \u001b[0;31m# A TypeError occurs if the object does have such a method in its\u001b[0m\u001b[0;34m\u001b[0m\u001b[0;34m\u001b[0m\u001b[0;34m\u001b[0m\u001b[0m\n",
      "\u001b[0;31mValueError\u001b[0m: cannot reshape array of size 8 into shape (2,5)"
     ]
    }
   ],
   "source": [
    "array13=np.arange(8)\n",
    "print(array13 , '\\n')\n",
    "array14=np.reshape (array13 ,(2,4))\n",
    "print(array14, '\\n')\n",
    "print(np.reshape(array13,(4,2)), '\\n')\n",
    "print(np.reshape(np.arange(8), (4,2)), '\\n')\n",
    "print(np.reshape(array13 , (2,5)) , '\\n')"
   ]
  },
  {
   "cell_type": "code",
   "execution_count": 10,
   "metadata": {},
   "outputs": [
    {
     "name": "stdout",
     "output_type": "stream",
     "text": [
      "[[1 4 5]\n",
      " [2 3 6]] \n",
      "\n",
      "[[3 6 7]\n",
      " [4 5 8]] \n",
      "\n",
      "[[-2  1  2]\n",
      " [-1  0  3]] \n",
      "\n",
      "[[ 5 20 25]\n",
      " [10 15 30]] \n",
      "\n",
      "[[2.         0.5        0.4       ]\n",
      " [1.         0.66666667 0.33333333]] \n",
      "\n",
      "[[  1  64 125]\n",
      " [  8  27 216]] \n",
      "\n",
      "[[ 0.54030231 -0.65364362  0.28366219]\n",
      " [-0.41614684 -0.9899925   0.96017029]] \n",
      "\n"
     ]
    }
   ],
   "source": [
    "array15=np.array([[1,4,5],[2,3,6]])\n",
    "\n",
    "print(array15,'\\n')\n",
    "print(array15+2, '\\n')\n",
    "print(array15-3, '\\n')\n",
    "print(array15*5, '\\n')\n",
    "print(2/array15, '\\n')\n",
    "print(array15**3 , '\\n')\n",
    "print(np.cos(array15) , '\\n')"
   ]
  },
  {
   "cell_type": "code",
   "execution_count": 11,
   "metadata": {},
   "outputs": [
    {
     "name": "stdout",
     "output_type": "stream",
     "text": [
      "[[1. 2. 3.]\n",
      " [4. 5. 6.]] \n",
      "\n",
      "[[-1. -2. -3.]\n",
      " [-4. -5. -6.]] \n",
      "\n"
     ]
    },
    {
     "ename": "ValueError",
     "evalue": "shapes (2,3) and (2,3) not aligned: 3 (dim 1) != 2 (dim 0)",
     "output_type": "error",
     "traceback": [
      "\u001b[0;31m---------------------------------------------------------------------------\u001b[0m",
      "\u001b[0;31mValueError\u001b[0m                                Traceback (most recent call last)",
      "\u001b[0;32m<ipython-input-11-5a0a5de9b996>\u001b[0m in \u001b[0;36m<module>\u001b[0;34m\u001b[0m\n\u001b[1;32m      3\u001b[0m \u001b[0marray17\u001b[0m\u001b[0;34m=\u001b[0m\u001b[0mnp\u001b[0m\u001b[0;34m.\u001b[0m\u001b[0marray\u001b[0m\u001b[0;34m(\u001b[0m\u001b[0;34m[\u001b[0m\u001b[0;34m[\u001b[0m\u001b[0;34m-\u001b[0m\u001b[0;36m1.\u001b[0m\u001b[0;34m,\u001b[0m\u001b[0;34m-\u001b[0m\u001b[0;36m2.\u001b[0m\u001b[0;34m,\u001b[0m\u001b[0;34m-\u001b[0m\u001b[0;36m3.\u001b[0m\u001b[0;34m]\u001b[0m\u001b[0;34m,\u001b[0m\u001b[0;34m[\u001b[0m\u001b[0;34m-\u001b[0m\u001b[0;36m4.\u001b[0m\u001b[0;34m,\u001b[0m\u001b[0;34m-\u001b[0m\u001b[0;36m5.\u001b[0m\u001b[0;34m,\u001b[0m\u001b[0;34m-\u001b[0m\u001b[0;36m6.\u001b[0m\u001b[0;34m]\u001b[0m\u001b[0;34m]\u001b[0m\u001b[0;34m)\u001b[0m\u001b[0;34m\u001b[0m\u001b[0;34m\u001b[0m\u001b[0m\n\u001b[1;32m      4\u001b[0m \u001b[0mprint\u001b[0m\u001b[0;34m(\u001b[0m\u001b[0marray17\u001b[0m\u001b[0;34m,\u001b[0m\u001b[0;34m'\\n'\u001b[0m\u001b[0;34m)\u001b[0m\u001b[0;34m\u001b[0m\u001b[0;34m\u001b[0m\u001b[0m\n\u001b[0;32m----> 5\u001b[0;31m \u001b[0mprint\u001b[0m\u001b[0;34m(\u001b[0m\u001b[0mnp\u001b[0m\u001b[0;34m.\u001b[0m\u001b[0mdot\u001b[0m\u001b[0;34m(\u001b[0m\u001b[0marray16\u001b[0m\u001b[0;34m,\u001b[0m\u001b[0marray17\u001b[0m\u001b[0;34m)\u001b[0m\u001b[0;34m,\u001b[0m \u001b[0;34m'\\n'\u001b[0m\u001b[0;34m)\u001b[0m\u001b[0;34m\u001b[0m\u001b[0;34m\u001b[0m\u001b[0m\n\u001b[0m",
      "\u001b[0;32m<__array_function__ internals>\u001b[0m in \u001b[0;36mdot\u001b[0;34m(*args, **kwargs)\u001b[0m\n",
      "\u001b[0;31mValueError\u001b[0m: shapes (2,3) and (2,3) not aligned: 3 (dim 1) != 2 (dim 0)"
     ]
    }
   ],
   "source": [
    "array16=np.array ([[1.,2.,3.],[4.,5.,6.]])\n",
    "print(array16, '\\n')\n",
    "array17=np.array([[-1.,-2.,-3.],[-4.,-5.,-6.]])\n",
    "print(array17,'\\n')\n",
    "print(np.dot(array16,array17), '\\n')"
   ]
  },
  {
   "cell_type": "code",
   "execution_count": 12,
   "metadata": {},
   "outputs": [
    {
     "name": "stdout",
     "output_type": "stream",
     "text": [
      "[[1 2]\n",
      " [3 4]\n",
      " [5 6]] \n",
      "\n",
      "[[22. 28.]\n",
      " [49. 64.]] \n",
      "\n"
     ]
    }
   ],
   "source": [
    "array166=np.array([[1,2],[3,4],[5,6]])\n",
    "print(array166, '\\n')\n",
    "print(np.dot(array16,array166), '\\n')"
   ]
  },
  {
   "cell_type": "code",
   "execution_count": 13,
   "metadata": {},
   "outputs": [
    {
     "name": "stdout",
     "output_type": "stream",
     "text": [
      "[[0.8977083  0.44668051 0.53495423 0.68914928]\n",
      " [0.47498842 0.35761767 0.07527342 0.6949351 ]] \n",
      "\n",
      "[[0.84224467 0.01262327 0.58242211 0.87440601]\n",
      " [0.7628449  0.98582222 0.25527829 0.62307027]] \n",
      "\n"
     ]
    }
   ],
   "source": [
    "array18=sc.rand(8)\n",
    "print(np.array(np.reshape((array18), (2,4))) ,'\\n')\n",
    "array19=print(np.array(np.reshape((sc.rand(8)) , (2,4))), '\\n')"
   ]
  },
  {
   "cell_type": "code",
   "execution_count": 14,
   "metadata": {},
   "outputs": [
    {
     "name": "stdout",
     "output_type": "stream",
     "text": [
      "[[1 2 3]\n",
      " [4 5 6]\n",
      " [7 8 9]] \n",
      "\n",
      "[1 2 3] \n",
      "\n",
      "[4 5 6] \n",
      "\n",
      "[7 8 9] \n",
      "\n"
     ]
    }
   ],
   "source": [
    "array20=np.array([[1,2,3] , [4,5,6], [7,8,9]])\n",
    "print(array20, '\\n')\n",
    "print(array20[0,:], '\\n')\n",
    "print(array20[1,:], '\\n')\n",
    "print(array20[2,:], '\\n')"
   ]
  },
  {
   "cell_type": "code",
   "execution_count": 15,
   "metadata": {},
   "outputs": [
    {
     "name": "stdout",
     "output_type": "stream",
     "text": [
      "[1 4 7] \n",
      "\n",
      "[2 5 8] \n",
      "\n",
      "[3 6 9] \n",
      "\n"
     ]
    }
   ],
   "source": [
    "print(array20[:,0], '\\n')\n",
    "print(array20[:,1], '\\n')\n",
    "print(array20[:,2], '\\n')"
   ]
  },
  {
   "cell_type": "code",
   "execution_count": 16,
   "metadata": {},
   "outputs": [
    {
     "name": "stdout",
     "output_type": "stream",
     "text": [
      "[ 1  8 21] \n",
      "\n",
      "[ 1  8 21] \n",
      "\n"
     ]
    }
   ],
   "source": [
    "print(array20[0,:]*array20[:,0], '\\n')\n",
    "print(array20[:,0]*array20[0,:], '\\n')"
   ]
  },
  {
   "cell_type": "code",
   "execution_count": 17,
   "metadata": {},
   "outputs": [
    {
     "name": "stdout",
     "output_type": "stream",
     "text": [
      "30 \n",
      "\n"
     ]
    }
   ],
   "source": [
    "print(np.dot((array20[0,:]),(array20[:,0])), '\\n')"
   ]
  },
  {
   "cell_type": "code",
   "execution_count": 18,
   "metadata": {},
   "outputs": [
    {
     "name": "stdout",
     "output_type": "stream",
     "text": [
      "[30] \n",
      "\n"
     ]
    }
   ],
   "source": [
    "print(np.dot((array20[0,:]), np.array(np.reshape(array20[:,0],(3,1)))), '\\n')"
   ]
  },
  {
   "cell_type": "code",
   "execution_count": 19,
   "metadata": {},
   "outputs": [
    {
     "name": "stdout",
     "output_type": "stream",
     "text": [
      "[[1 2 3]\n",
      " [4 5 6]\n",
      " [7 8 9]] \n",
      "\n",
      "[[ 1  4  9]\n",
      " [16 25 36]\n",
      " [49 64 81]] \n",
      "\n",
      "[[ 30  36  42]\n",
      " [ 66  81  96]\n",
      " [102 126 150]] \n",
      "\n"
     ]
    }
   ],
   "source": [
    "print(array20, '\\n')\n",
    "print(array20*array20, '\\n')\n",
    "print(np.dot(array20,array20), '\\n')"
   ]
  },
  {
   "cell_type": "code",
   "execution_count": 20,
   "metadata": {},
   "outputs": [
    {
     "name": "stdout",
     "output_type": "stream",
     "text": [
      "[[0 1 2]\n",
      " [3 4 5]\n",
      " [6 7 8]] \n",
      "\n",
      "[[0]\n",
      " [1]\n",
      " [2]] \n",
      "\n",
      "[[ 5]\n",
      " [14]\n",
      " [23]] \n",
      "\n",
      "[[ 0  0  0]\n",
      " [ 3  4  5]\n",
      " [12 14 16]] \n",
      "\n"
     ]
    }
   ],
   "source": [
    "array21=np.arange(9).reshape((3,3))\n",
    "print(array21, '\\n')\n",
    "array22=np.transpose(np.arange(3). reshape(1,3))\n",
    "print(array22, '\\n')\n",
    "print(np.dot(array21, array22), '\\n')\n",
    "print(array21*array22, '\\n')"
   ]
  },
  {
   "cell_type": "code",
   "execution_count": null,
   "metadata": {},
   "outputs": [],
   "source": []
  }
 ],
 "metadata": {
  "kernelspec": {
   "display_name": "Python 3",
   "language": "python",
   "name": "python3"
  },
  "language_info": {
   "codemirror_mode": {
    "name": "ipython",
    "version": 3
   },
   "file_extension": ".py",
   "mimetype": "text/x-python",
   "name": "python",
   "nbconvert_exporter": "python",
   "pygments_lexer": "ipython3",
   "version": "3.6.7"
  }
 },
 "nbformat": 4,
 "nbformat_minor": 2
}
