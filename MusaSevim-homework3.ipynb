{
 "cells": [
  {
   "cell_type": "code",
   "execution_count": null,
   "metadata": {},
   "outputs": [],
   "source": [
    "yol=int(input(\"1,2,3 sayılarından birini seçiniz:\"))\n",
    "if yol>3:\n",
    "    print(\"yeniden başlatınız\")\n",
    "elif yol==1:\n",
    "    print(\" hipotenüs hesaplanacak.\")\n",
    "    print(\"Hipotenüs formülüü  c**2=a**2+b**2\")\n",
    "    a=int(input(\"A:\"))\n",
    "    b=int(input(\"B:\"))\n",
    "    c=(a**2+b**2)**0.5\n",
    "    print(\"\\nHipotenüs:\",c)\n",
    "elif yol==2:\n",
    "    i=input(\"Bir sayı girin:\")\n",
    "    i=float(i)\n",
    "    a=1\n",
    "    b=i\n",
    "    while a<=b:\n",
    "        print(a,end=\" \")\n",
    "        a+=1\n",
    "\n",
    "elif yol==3:\n",
    "    print(\"girecegin 6 sayının aritmetik ortalaması hesaplanacak\")\n",
    "    sayı1=int(input(\"1.sayıyı giriniz:\"))\n",
    "    sayı2=int(input(\"2.sayıyı giriniz:\"))\n",
    "    sayı3=int(input(\"3.sayıyı giriniz:\"))\n",
    "    sayı4=int(input(\"4.sayıyı giriniz:\"))\n",
    "    sayı5=int(input(\"5.sayıyı giriniz:\"))\n",
    "    sayı6=int(input(\"6.sayıyı giriniz:\"))\n",
    "    print(\"girilenn sayılar:\"),(sayı1+sayı2+sayı3+sayı4+sayı5+sayı6)\n",
    "    ortalama=(sayı1+sayı2+sayı3+sayı4+sayı5+sayı6)/6\n",
    "    print(\"aritmetik ortalama:\",ortalama)"
   ]
  },
  {
   "cell_type": "code",
   "execution_count": null,
   "metadata": {},
   "outputs": [],
   "source": []
  }
 ],
 "metadata": {
  "kernelspec": {
   "display_name": "Python 3",
   "language": "python",
   "name": "python3"
  },
  "language_info": {
   "codemirror_mode": {
    "name": "ipython",
    "version": 3
   },
   "file_extension": ".py",
   "mimetype": "text/x-python",
   "name": "python",
   "nbconvert_exporter": "python",
   "pygments_lexer": "ipython3",
   "version": "3.6.7"
  }
 },
 "nbformat": 4,
 "nbformat_minor": 2
}
